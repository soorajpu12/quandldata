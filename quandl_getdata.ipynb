{
 "cells": [
  {
   "cell_type": "code",
   "execution_count": 1,
   "metadata": {},
   "outputs": [],
   "source": [
    "import quandl"
   ]
  },
  {
   "cell_type": "code",
   "execution_count": 2,
   "metadata": {},
   "outputs": [],
   "source": [
    "def quandl_get_daily_data_function(ticker,start,end):\n",
    "    quandl.ApiConfig.api_key = 'ENTER THE API'\n",
    "\n",
    "    daily_data_dataframe=quandl.get(ticker,start_date=start, end_date=end)\n",
    "    daily_data_dataframe.to_csv(ticker.split('/')[1]+'_daily_data_quandl.csv')"
   ]
  },
  {
   "cell_type": "code",
   "execution_count": 3,
   "metadata": {},
   "outputs": [],
   "source": [
    "# This creates a CSV file in the directory from where this notebook is launched\n",
    "# Quandl EOD help- https://www.quandl.com/data/EOD-End-of-Day-US-Stock-Prices/documentation\n",
    "\n",
    "quandl_get_daily_data_function('EOD/MSFT',start='2015-01-01',end='2018-01-01')"
   ]
  }
 ],
 "metadata": {
  "kernelspec": {
   "display_name": "Python 3",
   "language": "python",
   "name": "python3"
  },
  "language_info": {
   "codemirror_mode": {
    "name": "ipython",
    "version": 3
   },
   "file_extension": ".py",
   "mimetype": "text/x-python",
   "name": "python",
   "nbconvert_exporter": "python",
   "pygments_lexer": "ipython3",
   "version": "3.6.5"
  }
 },
 "nbformat": 4,
 "nbformat_minor": 2
}
